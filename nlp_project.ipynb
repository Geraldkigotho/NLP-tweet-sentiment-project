{
 "cells": [
  {
   "cell_type": "code",
   "execution_count": 1,
   "metadata": {
    "id": "AZ98sw-BjSBs"
   },
   "outputs": [
    {
     "name": "stderr",
     "output_type": "stream",
     "text": [
      "[nltk_data] Downloading package punkt to\n",
      "[nltk_data]     C:\\Users\\user\\AppData\\Roaming\\nltk_data...\n",
      "[nltk_data]   Package punkt is already up-to-date!\n",
      "[nltk_data] Downloading package stopwords to\n",
      "[nltk_data]     C:\\Users\\user\\AppData\\Roaming\\nltk_data...\n",
      "[nltk_data]   Package stopwords is already up-to-date!\n",
      "[nltk_data] Downloading package averaged_perceptron_tagger to\n",
      "[nltk_data]     C:\\Users\\user\\AppData\\Roaming\\nltk_data...\n",
      "[nltk_data]   Package averaged_perceptron_tagger is already up-to-\n",
      "[nltk_data]       date!\n",
      "[nltk_data] Downloading package wordnet to\n",
      "[nltk_data]     C:\\Users\\user\\AppData\\Roaming\\nltk_data...\n",
      "[nltk_data]   Package wordnet is already up-to-date!\n"
     ]
    }
   ],
   "source": [
    "# Import necessary modules\n",
    "\n",
    "# data manupulation\n",
    "import pandas as pd\n",
    "import numpy as np\n",
    "# data visualization\n",
    "import matplotlib.pyplot as plt\n",
    "import seaborn as sns\n",
    "# text cleaning\n",
    "import string\n",
    "import re\n",
    "# nlp preprosessing\n",
    "import nltk\n",
    "nltk.download('punkt')\n",
    "nltk.download('stopwords')\n",
    "nltk.download('averaged_perceptron_tagger')\n",
    "nltk.download('wordnet')\n",
    "from nltk.probability import FreqDist\n",
    "from nltk.tokenize import regexp_tokenize, word_tokenize, RegexpTokenizer, TweetTokenizer\n",
    "from nltk.corpus import stopwords, wordnet\n",
    "from nltk import pos_tag\n",
    "from nltk.stem import WordNetLemmatizer\n",
    "# modelling\n",
    "from sklearn.feature_extraction.text import TfidfVectorizer, CountVectorizer\n",
    "from sklearn.ensemble import RandomForestClassifier\n",
    "from sklearn.naive_bayes import MultinomialNB\n",
    "# evaluation\n",
    "from sklearn.metrics import accuracy_score,classification_report,confusion_matrix,roc_auc_score\n",
    "\n",
    "\n",
    "import warnings\n",
    "\n",
    "\n",
    "warnings.filterwarnings('ignore')\n"
   ]
  },
  {
   "cell_type": "markdown",
   "metadata": {},
   "source": [
    "### Data Cleaning\n",
    "\n",
    "**Steps to be followed**\n",
    "1. **Completeness** - check at missing values and handle them\n",
    "2. **Uniformity** - we will rename our columnsas well us cleaning our texts by removing punctuations capital letters as well as    hash tags \n",
    "3. **Tokenizing**\n",
    "4. **Removing of stop words**\n",
    "5. **Normalization** - through lemmatization,stemming and part of speech"
   ]
  },
  {
   "cell_type": "code",
   "execution_count": 2,
   "metadata": {},
   "outputs": [
    {
     "data": {
      "text/html": [
       "<div>\n",
       "<style scoped>\n",
       "    .dataframe tbody tr th:only-of-type {\n",
       "        vertical-align: middle;\n",
       "    }\n",
       "\n",
       "    .dataframe tbody tr th {\n",
       "        vertical-align: top;\n",
       "    }\n",
       "\n",
       "    .dataframe thead th {\n",
       "        text-align: right;\n",
       "    }\n",
       "</style>\n",
       "<table border=\"1\" class=\"dataframe\">\n",
       "  <thead>\n",
       "    <tr style=\"text-align: right;\">\n",
       "      <th></th>\n",
       "      <th>tweet_text</th>\n",
       "      <th>emotion_in_tweet_is_directed_at</th>\n",
       "      <th>is_there_an_emotion_directed_at_a_brand_or_product</th>\n",
       "    </tr>\n",
       "  </thead>\n",
       "  <tbody>\n",
       "    <tr>\n",
       "      <th>0</th>\n",
       "      <td>.@wesley83 I have a 3G iPhone. After 3 hrs twe...</td>\n",
       "      <td>iPhone</td>\n",
       "      <td>Negative emotion</td>\n",
       "    </tr>\n",
       "    <tr>\n",
       "      <th>1</th>\n",
       "      <td>@jessedee Know about @fludapp ? Awesome iPad/i...</td>\n",
       "      <td>iPad or iPhone App</td>\n",
       "      <td>Positive emotion</td>\n",
       "    </tr>\n",
       "    <tr>\n",
       "      <th>2</th>\n",
       "      <td>@swonderlin Can not wait for #iPad 2 also. The...</td>\n",
       "      <td>iPad</td>\n",
       "      <td>Positive emotion</td>\n",
       "    </tr>\n",
       "    <tr>\n",
       "      <th>3</th>\n",
       "      <td>@sxsw I hope this year's festival isn't as cra...</td>\n",
       "      <td>iPad or iPhone App</td>\n",
       "      <td>Negative emotion</td>\n",
       "    </tr>\n",
       "    <tr>\n",
       "      <th>4</th>\n",
       "      <td>@sxtxstate great stuff on Fri #SXSW: Marissa M...</td>\n",
       "      <td>Google</td>\n",
       "      <td>Positive emotion</td>\n",
       "    </tr>\n",
       "    <tr>\n",
       "      <th>...</th>\n",
       "      <td>...</td>\n",
       "      <td>...</td>\n",
       "      <td>...</td>\n",
       "    </tr>\n",
       "    <tr>\n",
       "      <th>9088</th>\n",
       "      <td>Ipad everywhere. #SXSW {link}</td>\n",
       "      <td>iPad</td>\n",
       "      <td>Positive emotion</td>\n",
       "    </tr>\n",
       "    <tr>\n",
       "      <th>9089</th>\n",
       "      <td>Wave, buzz... RT @mention We interrupt your re...</td>\n",
       "      <td>NaN</td>\n",
       "      <td>No emotion toward brand or product</td>\n",
       "    </tr>\n",
       "    <tr>\n",
       "      <th>9090</th>\n",
       "      <td>Google's Zeiger, a physician never reported po...</td>\n",
       "      <td>NaN</td>\n",
       "      <td>No emotion toward brand or product</td>\n",
       "    </tr>\n",
       "    <tr>\n",
       "      <th>9091</th>\n",
       "      <td>Some Verizon iPhone customers complained their...</td>\n",
       "      <td>NaN</td>\n",
       "      <td>No emotion toward brand or product</td>\n",
       "    </tr>\n",
       "    <tr>\n",
       "      <th>9092</th>\n",
       "      <td>Ï¡Ïàü_ÊÎÒ£Áââ_£â_ÛâRT @...</td>\n",
       "      <td>NaN</td>\n",
       "      <td>No emotion toward brand or product</td>\n",
       "    </tr>\n",
       "  </tbody>\n",
       "</table>\n",
       "<p>9093 rows × 3 columns</p>\n",
       "</div>"
      ],
      "text/plain": [
       "                                             tweet_text  \\\n",
       "0     .@wesley83 I have a 3G iPhone. After 3 hrs twe...   \n",
       "1     @jessedee Know about @fludapp ? Awesome iPad/i...   \n",
       "2     @swonderlin Can not wait for #iPad 2 also. The...   \n",
       "3     @sxsw I hope this year's festival isn't as cra...   \n",
       "4     @sxtxstate great stuff on Fri #SXSW: Marissa M...   \n",
       "...                                                 ...   \n",
       "9088                      Ipad everywhere. #SXSW {link}   \n",
       "9089  Wave, buzz... RT @mention We interrupt your re...   \n",
       "9090  Google's Zeiger, a physician never reported po...   \n",
       "9091  Some Verizon iPhone customers complained their...   \n",
       "9092  Ï¡Ïàü_ÊÎÒ£Áââ_£â_ÛâRT @...   \n",
       "\n",
       "     emotion_in_tweet_is_directed_at  \\\n",
       "0                             iPhone   \n",
       "1                 iPad or iPhone App   \n",
       "2                               iPad   \n",
       "3                 iPad or iPhone App   \n",
       "4                             Google   \n",
       "...                              ...   \n",
       "9088                            iPad   \n",
       "9089                             NaN   \n",
       "9090                             NaN   \n",
       "9091                             NaN   \n",
       "9092                             NaN   \n",
       "\n",
       "     is_there_an_emotion_directed_at_a_brand_or_product  \n",
       "0                                      Negative emotion  \n",
       "1                                      Positive emotion  \n",
       "2                                      Positive emotion  \n",
       "3                                      Negative emotion  \n",
       "4                                      Positive emotion  \n",
       "...                                                 ...  \n",
       "9088                                   Positive emotion  \n",
       "9089                 No emotion toward brand or product  \n",
       "9090                 No emotion toward brand or product  \n",
       "9091                 No emotion toward brand or product  \n",
       "9092                 No emotion toward brand or product  \n",
       "\n",
       "[9093 rows x 3 columns]"
      ]
     },
     "execution_count": 2,
     "metadata": {},
     "output_type": "execute_result"
    }
   ],
   "source": [
    "df = pd.read_csv('judge-1377884607_tweet_product_company.csv', encoding='unicode_escape')\n",
    "df"
   ]
  },
  {
   "cell_type": "code",
   "execution_count": 3,
   "metadata": {},
   "outputs": [
    {
     "data": {
      "text/plain": [
       "0    .@wesley83 I have a 3G iPhone. After 3 hrs twe...\n",
       "1    @jessedee Know about @fludapp ? Awesome iPad/i...\n",
       "2    @swonderlin Can not wait for #iPad 2 also. The...\n",
       "3    @sxsw I hope this year's festival isn't as cra...\n",
       "4    @sxtxstate great stuff on Fri #SXSW: Marissa M...\n",
       "Name: tweet_text, dtype: object"
      ]
     },
     "execution_count": 3,
     "metadata": {},
     "output_type": "execute_result"
    }
   ],
   "source": [
    "tweet = df['tweet_text']\n",
    "tweet.head()"
   ]
  },
  {
   "cell_type": "code",
   "execution_count": 4,
   "metadata": {},
   "outputs": [],
   "source": [
    "#lets create a class data cleaniing\n",
    "\n",
    "class DataCleaning:\n",
    "    def __init__(self, df):\n",
    "        self.df = df\n",
    "    \n",
    "    def missing_values(self): # checkin for percentage of mising values in each column\n",
    "        missing_values = self.df.isnull().sum()\n",
    "        missing_percentage = (self.df.isnull().mean() * 100)\n",
    "        return missing_percentage\n",
    "    \n",
    "    def change_col_name(self): # changing column names for uniformity\n",
    "        self.df = self.df.rename({'tweet_text': 'tweet', \n",
    "                              'emotion_in_tweet_is_directed_at': 'product', \n",
    "                              'is_there_an_emotion_directed_at_a_brand_or_product': 'emotion'}, \n",
    "                             axis=1)\n",
    "        return self.df\n",
    "    @staticmethod\n",
    "    def clean_tweet(tweet): #removing punctuations ,uppercase , white spaces and @\n",
    "        if isinstance(tweet, str):\n",
    "            tweet = tweet.lower()\n",
    "            tweet = re.sub(r'[^\\w\\s]', '', tweet)\n",
    "            tweet = re.sub(r'\\s+', ' ', tweet).strip()\n",
    "            tweet = re.sub(r'@\\w+', '', tweet)\n",
    "            tweet = re.sub(r'\\b\\d+\\b', '', tweet)#removing stand alone numbers but remaining numbers intergrete in the words\n",
    "        return tweet"
   ]
  },
  {
   "cell_type": "markdown",
   "metadata": {},
   "source": [
    "**Competeness**"
   ]
  },
  {
   "cell_type": "code",
   "execution_count": 5,
   "metadata": {},
   "outputs": [
    {
     "data": {
      "text/plain": [
       "tweet_text                                             0.010997\n",
       "emotion_in_tweet_is_directed_at                       63.807324\n",
       "is_there_an_emotion_directed_at_a_brand_or_product     0.000000\n",
       "dtype: float64"
      ]
     },
     "execution_count": 5,
     "metadata": {},
     "output_type": "execute_result"
    }
   ],
   "source": [
    "# instatiating the datacleaning class and callng its method\n",
    "clean_df = DataCleaning(df)\n",
    "missing_percentages = clean_df.missing_values()\n",
    "missing_percentages"
   ]
  },
  {
   "cell_type": "markdown",
   "metadata": {},
   "source": [
    "We have a insignificant null values in the 'tweet_text' column which would not affect our dataset so we will drop the null value ,we also have a large percentage of null values in the 'emotion_in_tweet_is_directed_at' column which does not affect us much since we will not be using the column for modelling purpose as well as analysis"
   ]
  },
  {
   "cell_type": "code",
   "execution_count": 6,
   "metadata": {},
   "outputs": [
    {
     "data": {
      "text/plain": [
       "(9092, 3)"
      ]
     },
     "execution_count": 6,
     "metadata": {},
     "output_type": "execute_result"
    }
   ],
   "source": [
    "df.dropna(subset=['tweet_text'], inplace=True)\n",
    "df.shape"
   ]
  },
  {
   "cell_type": "markdown",
   "metadata": {},
   "source": [
    "\n",
    "Null values in 'tweet_text' dropped"
   ]
  },
  {
   "cell_type": "markdown",
   "metadata": {},
   "source": [
    "**Uniformity**"
   ]
  },
  {
   "cell_type": "code",
   "execution_count": 7,
   "metadata": {},
   "outputs": [
    {
     "data": {
      "text/html": [
       "<div>\n",
       "<style scoped>\n",
       "    .dataframe tbody tr th:only-of-type {\n",
       "        vertical-align: middle;\n",
       "    }\n",
       "\n",
       "    .dataframe tbody tr th {\n",
       "        vertical-align: top;\n",
       "    }\n",
       "\n",
       "    .dataframe thead th {\n",
       "        text-align: right;\n",
       "    }\n",
       "</style>\n",
       "<table border=\"1\" class=\"dataframe\">\n",
       "  <thead>\n",
       "    <tr style=\"text-align: right;\">\n",
       "      <th></th>\n",
       "      <th>tweet</th>\n",
       "      <th>product</th>\n",
       "      <th>emotion</th>\n",
       "    </tr>\n",
       "  </thead>\n",
       "  <tbody>\n",
       "    <tr>\n",
       "      <th>0</th>\n",
       "      <td>.@wesley83 I have a 3G iPhone. After 3 hrs twe...</td>\n",
       "      <td>iPhone</td>\n",
       "      <td>Negative emotion</td>\n",
       "    </tr>\n",
       "    <tr>\n",
       "      <th>1</th>\n",
       "      <td>@jessedee Know about @fludapp ? Awesome iPad/i...</td>\n",
       "      <td>iPad or iPhone App</td>\n",
       "      <td>Positive emotion</td>\n",
       "    </tr>\n",
       "    <tr>\n",
       "      <th>2</th>\n",
       "      <td>@swonderlin Can not wait for #iPad 2 also. The...</td>\n",
       "      <td>iPad</td>\n",
       "      <td>Positive emotion</td>\n",
       "    </tr>\n",
       "    <tr>\n",
       "      <th>3</th>\n",
       "      <td>@sxsw I hope this year's festival isn't as cra...</td>\n",
       "      <td>iPad or iPhone App</td>\n",
       "      <td>Negative emotion</td>\n",
       "    </tr>\n",
       "    <tr>\n",
       "      <th>4</th>\n",
       "      <td>@sxtxstate great stuff on Fri #SXSW: Marissa M...</td>\n",
       "      <td>Google</td>\n",
       "      <td>Positive emotion</td>\n",
       "    </tr>\n",
       "    <tr>\n",
       "      <th>...</th>\n",
       "      <td>...</td>\n",
       "      <td>...</td>\n",
       "      <td>...</td>\n",
       "    </tr>\n",
       "    <tr>\n",
       "      <th>9088</th>\n",
       "      <td>Ipad everywhere. #SXSW {link}</td>\n",
       "      <td>iPad</td>\n",
       "      <td>Positive emotion</td>\n",
       "    </tr>\n",
       "    <tr>\n",
       "      <th>9089</th>\n",
       "      <td>Wave, buzz... RT @mention We interrupt your re...</td>\n",
       "      <td>NaN</td>\n",
       "      <td>No emotion toward brand or product</td>\n",
       "    </tr>\n",
       "    <tr>\n",
       "      <th>9090</th>\n",
       "      <td>Google's Zeiger, a physician never reported po...</td>\n",
       "      <td>NaN</td>\n",
       "      <td>No emotion toward brand or product</td>\n",
       "    </tr>\n",
       "    <tr>\n",
       "      <th>9091</th>\n",
       "      <td>Some Verizon iPhone customers complained their...</td>\n",
       "      <td>NaN</td>\n",
       "      <td>No emotion toward brand or product</td>\n",
       "    </tr>\n",
       "    <tr>\n",
       "      <th>9092</th>\n",
       "      <td>Ï¡Ïàü_ÊÎÒ£Áââ_£â_ÛâRT @...</td>\n",
       "      <td>NaN</td>\n",
       "      <td>No emotion toward brand or product</td>\n",
       "    </tr>\n",
       "  </tbody>\n",
       "</table>\n",
       "<p>9092 rows × 3 columns</p>\n",
       "</div>"
      ],
      "text/plain": [
       "                                                  tweet             product  \\\n",
       "0     .@wesley83 I have a 3G iPhone. After 3 hrs twe...              iPhone   \n",
       "1     @jessedee Know about @fludapp ? Awesome iPad/i...  iPad or iPhone App   \n",
       "2     @swonderlin Can not wait for #iPad 2 also. The...                iPad   \n",
       "3     @sxsw I hope this year's festival isn't as cra...  iPad or iPhone App   \n",
       "4     @sxtxstate great stuff on Fri #SXSW: Marissa M...              Google   \n",
       "...                                                 ...                 ...   \n",
       "9088                      Ipad everywhere. #SXSW {link}                iPad   \n",
       "9089  Wave, buzz... RT @mention We interrupt your re...                 NaN   \n",
       "9090  Google's Zeiger, a physician never reported po...                 NaN   \n",
       "9091  Some Verizon iPhone customers complained their...                 NaN   \n",
       "9092  Ï¡Ïàü_ÊÎÒ£Áââ_£â_ÛâRT @...                 NaN   \n",
       "\n",
       "                                 emotion  \n",
       "0                       Negative emotion  \n",
       "1                       Positive emotion  \n",
       "2                       Positive emotion  \n",
       "3                       Negative emotion  \n",
       "4                       Positive emotion  \n",
       "...                                  ...  \n",
       "9088                    Positive emotion  \n",
       "9089  No emotion toward brand or product  \n",
       "9090  No emotion toward brand or product  \n",
       "9091  No emotion toward brand or product  \n",
       "9092  No emotion toward brand or product  \n",
       "\n",
       "[9092 rows x 3 columns]"
      ]
     },
     "execution_count": 7,
     "metadata": {},
     "output_type": "execute_result"
    }
   ],
   "source": [
    "# # changing columns names by calling the class method\n",
    "df = clean_df.change_col_name()\n",
    "df "
   ]
  },
  {
   "cell_type": "code",
   "execution_count": 8,
   "metadata": {},
   "outputs": [
    {
     "data": {
      "text/plain": [
       "0    wesley83 i have a 3g iphone after  hrs tweetin...\n",
       "1    jessedee know about fludapp awesome ipadiphone...\n",
       "2    swonderlin can not wait for ipad  also they sh...\n",
       "3    sxsw i hope this years festival isnt as crashy...\n",
       "4    sxtxstate great stuff on fri sxsw marissa maye...\n",
       "Name: cleaned_tweet, dtype: object"
      ]
     },
     "execution_count": 8,
     "metadata": {},
     "output_type": "execute_result"
    }
   ],
   "source": [
    "# doing text cleaning  by removing @, punctuation ,uppercase by hep of our class method\n",
    "df['cleaned_tweet'] = df['tweet'].apply(DataCleaning.clean_tweet)\n",
    "df['cleaned_tweet'].head()"
   ]
  },
  {
   "cell_type": "markdown",
   "metadata": {},
   "source": [
    "**Tokenization**"
   ]
  },
  {
   "cell_type": "code",
   "execution_count": 9,
   "metadata": {},
   "outputs": [
    {
     "data": {
      "text/html": [
       "<div>\n",
       "<style scoped>\n",
       "    .dataframe tbody tr th:only-of-type {\n",
       "        vertical-align: middle;\n",
       "    }\n",
       "\n",
       "    .dataframe tbody tr th {\n",
       "        vertical-align: top;\n",
       "    }\n",
       "\n",
       "    .dataframe thead th {\n",
       "        text-align: right;\n",
       "    }\n",
       "</style>\n",
       "<table border=\"1\" class=\"dataframe\">\n",
       "  <thead>\n",
       "    <tr style=\"text-align: right;\">\n",
       "      <th></th>\n",
       "      <th>tweet</th>\n",
       "      <th>product</th>\n",
       "      <th>emotion</th>\n",
       "      <th>cleaned_tweet</th>\n",
       "      <th>tokenized_tweet</th>\n",
       "    </tr>\n",
       "  </thead>\n",
       "  <tbody>\n",
       "    <tr>\n",
       "      <th>0</th>\n",
       "      <td>.@wesley83 I have a 3G iPhone. After 3 hrs twe...</td>\n",
       "      <td>iPhone</td>\n",
       "      <td>Negative emotion</td>\n",
       "      <td>wesley83 i have a 3g iphone after  hrs tweetin...</td>\n",
       "      <td>[wesley83, i, have, a, 3g, iphone, after, hrs,...</td>\n",
       "    </tr>\n",
       "    <tr>\n",
       "      <th>1</th>\n",
       "      <td>@jessedee Know about @fludapp ? Awesome iPad/i...</td>\n",
       "      <td>iPad or iPhone App</td>\n",
       "      <td>Positive emotion</td>\n",
       "      <td>jessedee know about fludapp awesome ipadiphone...</td>\n",
       "      <td>[jessedee, know, about, fludapp, awesome, ipad...</td>\n",
       "    </tr>\n",
       "    <tr>\n",
       "      <th>2</th>\n",
       "      <td>@swonderlin Can not wait for #iPad 2 also. The...</td>\n",
       "      <td>iPad</td>\n",
       "      <td>Positive emotion</td>\n",
       "      <td>swonderlin can not wait for ipad  also they sh...</td>\n",
       "      <td>[swonderlin, can, not, wait, for, ipad, also, ...</td>\n",
       "    </tr>\n",
       "    <tr>\n",
       "      <th>3</th>\n",
       "      <td>@sxsw I hope this year's festival isn't as cra...</td>\n",
       "      <td>iPad or iPhone App</td>\n",
       "      <td>Negative emotion</td>\n",
       "      <td>sxsw i hope this years festival isnt as crashy...</td>\n",
       "      <td>[sxsw, i, hope, this, years, festival, isnt, a...</td>\n",
       "    </tr>\n",
       "    <tr>\n",
       "      <th>4</th>\n",
       "      <td>@sxtxstate great stuff on Fri #SXSW: Marissa M...</td>\n",
       "      <td>Google</td>\n",
       "      <td>Positive emotion</td>\n",
       "      <td>sxtxstate great stuff on fri sxsw marissa maye...</td>\n",
       "      <td>[sxtxstate, great, stuff, on, fri, sxsw, maris...</td>\n",
       "    </tr>\n",
       "  </tbody>\n",
       "</table>\n",
       "</div>"
      ],
      "text/plain": [
       "                                               tweet             product  \\\n",
       "0  .@wesley83 I have a 3G iPhone. After 3 hrs twe...              iPhone   \n",
       "1  @jessedee Know about @fludapp ? Awesome iPad/i...  iPad or iPhone App   \n",
       "2  @swonderlin Can not wait for #iPad 2 also. The...                iPad   \n",
       "3  @sxsw I hope this year's festival isn't as cra...  iPad or iPhone App   \n",
       "4  @sxtxstate great stuff on Fri #SXSW: Marissa M...              Google   \n",
       "\n",
       "            emotion                                      cleaned_tweet  \\\n",
       "0  Negative emotion  wesley83 i have a 3g iphone after  hrs tweetin...   \n",
       "1  Positive emotion  jessedee know about fludapp awesome ipadiphone...   \n",
       "2  Positive emotion  swonderlin can not wait for ipad  also they sh...   \n",
       "3  Negative emotion  sxsw i hope this years festival isnt as crashy...   \n",
       "4  Positive emotion  sxtxstate great stuff on fri sxsw marissa maye...   \n",
       "\n",
       "                                     tokenized_tweet  \n",
       "0  [wesley83, i, have, a, 3g, iphone, after, hrs,...  \n",
       "1  [jessedee, know, about, fludapp, awesome, ipad...  \n",
       "2  [swonderlin, can, not, wait, for, ipad, also, ...  \n",
       "3  [sxsw, i, hope, this, years, festival, isnt, a...  \n",
       "4  [sxtxstate, great, stuff, on, fri, sxsw, maris...  "
      ]
     },
     "execution_count": 9,
     "metadata": {},
     "output_type": "execute_result"
    }
   ],
   "source": [
    "#lets create a function to tokenize our cleaned_tweet \n",
    "def tokenize_text(cleaned_tweet):\n",
    "    return word_tokenize(cleaned_tweet)\n",
    "\n",
    "# Applying the tokenize_tweet function\n",
    "df['tokenized_tweet'] = df['cleaned_tweet'].apply(word_tokenize)\n",
    "df.head()"
   ]
  },
  {
   "cell_type": "markdown",
   "metadata": {},
   "source": [
    "**Removing of stopwords**"
   ]
  },
  {
   "cell_type": "code",
   "execution_count": 10,
   "metadata": {},
   "outputs": [
    {
     "data": {
      "text/html": [
       "<div>\n",
       "<style scoped>\n",
       "    .dataframe tbody tr th:only-of-type {\n",
       "        vertical-align: middle;\n",
       "    }\n",
       "\n",
       "    .dataframe tbody tr th {\n",
       "        vertical-align: top;\n",
       "    }\n",
       "\n",
       "    .dataframe thead th {\n",
       "        text-align: right;\n",
       "    }\n",
       "</style>\n",
       "<table border=\"1\" class=\"dataframe\">\n",
       "  <thead>\n",
       "    <tr style=\"text-align: right;\">\n",
       "      <th></th>\n",
       "      <th>tweet</th>\n",
       "      <th>product</th>\n",
       "      <th>emotion</th>\n",
       "      <th>cleaned_tweet</th>\n",
       "      <th>tokenized_tweet</th>\n",
       "      <th>removed_stop_tweet</th>\n",
       "    </tr>\n",
       "  </thead>\n",
       "  <tbody>\n",
       "    <tr>\n",
       "      <th>0</th>\n",
       "      <td>.@wesley83 I have a 3G iPhone. After 3 hrs twe...</td>\n",
       "      <td>iPhone</td>\n",
       "      <td>Negative emotion</td>\n",
       "      <td>wesley83 i have a 3g iphone after  hrs tweetin...</td>\n",
       "      <td>[wesley83, i, have, a, 3g, iphone, after, hrs,...</td>\n",
       "      <td>[wesley83, 3g, iphone, hrs, tweeting, rise_aus...</td>\n",
       "    </tr>\n",
       "    <tr>\n",
       "      <th>1</th>\n",
       "      <td>@jessedee Know about @fludapp ? Awesome iPad/i...</td>\n",
       "      <td>iPad or iPhone App</td>\n",
       "      <td>Positive emotion</td>\n",
       "      <td>jessedee know about fludapp awesome ipadiphone...</td>\n",
       "      <td>[jessedee, know, about, fludapp, awesome, ipad...</td>\n",
       "      <td>[jessedee, know, fludapp, awesome, ipadiphone,...</td>\n",
       "    </tr>\n",
       "    <tr>\n",
       "      <th>2</th>\n",
       "      <td>@swonderlin Can not wait for #iPad 2 also. The...</td>\n",
       "      <td>iPad</td>\n",
       "      <td>Positive emotion</td>\n",
       "      <td>swonderlin can not wait for ipad  also they sh...</td>\n",
       "      <td>[swonderlin, can, not, wait, for, ipad, also, ...</td>\n",
       "      <td>[swonderlin, wait, ipad, also, sale, sxsw]</td>\n",
       "    </tr>\n",
       "    <tr>\n",
       "      <th>3</th>\n",
       "      <td>@sxsw I hope this year's festival isn't as cra...</td>\n",
       "      <td>iPad or iPhone App</td>\n",
       "      <td>Negative emotion</td>\n",
       "      <td>sxsw i hope this years festival isnt as crashy...</td>\n",
       "      <td>[sxsw, i, hope, this, years, festival, isnt, a...</td>\n",
       "      <td>[sxsw, hope, years, festival, isnt, crashy, ye...</td>\n",
       "    </tr>\n",
       "    <tr>\n",
       "      <th>4</th>\n",
       "      <td>@sxtxstate great stuff on Fri #SXSW: Marissa M...</td>\n",
       "      <td>Google</td>\n",
       "      <td>Positive emotion</td>\n",
       "      <td>sxtxstate great stuff on fri sxsw marissa maye...</td>\n",
       "      <td>[sxtxstate, great, stuff, on, fri, sxsw, maris...</td>\n",
       "      <td>[sxtxstate, great, stuff, fri, sxsw, marissa, ...</td>\n",
       "    </tr>\n",
       "  </tbody>\n",
       "</table>\n",
       "</div>"
      ],
      "text/plain": [
       "                                               tweet             product  \\\n",
       "0  .@wesley83 I have a 3G iPhone. After 3 hrs twe...              iPhone   \n",
       "1  @jessedee Know about @fludapp ? Awesome iPad/i...  iPad or iPhone App   \n",
       "2  @swonderlin Can not wait for #iPad 2 also. The...                iPad   \n",
       "3  @sxsw I hope this year's festival isn't as cra...  iPad or iPhone App   \n",
       "4  @sxtxstate great stuff on Fri #SXSW: Marissa M...              Google   \n",
       "\n",
       "            emotion                                      cleaned_tweet  \\\n",
       "0  Negative emotion  wesley83 i have a 3g iphone after  hrs tweetin...   \n",
       "1  Positive emotion  jessedee know about fludapp awesome ipadiphone...   \n",
       "2  Positive emotion  swonderlin can not wait for ipad  also they sh...   \n",
       "3  Negative emotion  sxsw i hope this years festival isnt as crashy...   \n",
       "4  Positive emotion  sxtxstate great stuff on fri sxsw marissa maye...   \n",
       "\n",
       "                                     tokenized_tweet  \\\n",
       "0  [wesley83, i, have, a, 3g, iphone, after, hrs,...   \n",
       "1  [jessedee, know, about, fludapp, awesome, ipad...   \n",
       "2  [swonderlin, can, not, wait, for, ipad, also, ...   \n",
       "3  [sxsw, i, hope, this, years, festival, isnt, a...   \n",
       "4  [sxtxstate, great, stuff, on, fri, sxsw, maris...   \n",
       "\n",
       "                                  removed_stop_tweet  \n",
       "0  [wesley83, 3g, iphone, hrs, tweeting, rise_aus...  \n",
       "1  [jessedee, know, fludapp, awesome, ipadiphone,...  \n",
       "2         [swonderlin, wait, ipad, also, sale, sxsw]  \n",
       "3  [sxsw, hope, years, festival, isnt, crashy, ye...  \n",
       "4  [sxtxstate, great, stuff, fri, sxsw, marissa, ...  "
      ]
     },
     "execution_count": 10,
     "metadata": {},
     "output_type": "execute_result"
    }
   ],
   "source": [
    "# instastiating the stopwords as well as creating and applying a function to remove stop words\n",
    "\n",
    "sw = set(stopwords.words('english'))\n",
    "\n",
    "def remove_stopwords(tokenized_tweet):\n",
    "    return [i for i in tokenized_tweet if i not in sw]\n",
    "         \n",
    "df['removed_stop_tweet'] = df['tokenized_tweet'].apply(remove_stopwords)\n",
    "df.head()         \n",
    "         "
   ]
  },
  {
   "cell_type": "markdown",
   "metadata": {},
   "source": [
    "**Normalization**"
   ]
  },
  {
   "cell_type": "code",
   "execution_count": 11,
   "metadata": {},
   "outputs": [
    {
     "data": {
      "text/html": [
       "<div>\n",
       "<style scoped>\n",
       "    .dataframe tbody tr th:only-of-type {\n",
       "        vertical-align: middle;\n",
       "    }\n",
       "\n",
       "    .dataframe tbody tr th {\n",
       "        vertical-align: top;\n",
       "    }\n",
       "\n",
       "    .dataframe thead th {\n",
       "        text-align: right;\n",
       "    }\n",
       "</style>\n",
       "<table border=\"1\" class=\"dataframe\">\n",
       "  <thead>\n",
       "    <tr style=\"text-align: right;\">\n",
       "      <th></th>\n",
       "      <th>tweet</th>\n",
       "      <th>product</th>\n",
       "      <th>emotion</th>\n",
       "      <th>cleaned_tweet</th>\n",
       "      <th>tokenized_tweet</th>\n",
       "      <th>removed_stop_tweet</th>\n",
       "      <th>lemmatized_tweet</th>\n",
       "    </tr>\n",
       "  </thead>\n",
       "  <tbody>\n",
       "    <tr>\n",
       "      <th>0</th>\n",
       "      <td>.@wesley83 I have a 3G iPhone. After 3 hrs twe...</td>\n",
       "      <td>iPhone</td>\n",
       "      <td>Negative emotion</td>\n",
       "      <td>wesley83 i have a 3g iphone after  hrs tweetin...</td>\n",
       "      <td>[wesley83, i, have, a, 3g, iphone, after, hrs,...</td>\n",
       "      <td>[wesley83, 3g, iphone, hrs, tweeting, rise_aus...</td>\n",
       "      <td>[wesley83, 3g, iphone, hr, tweeting, rise_aust...</td>\n",
       "    </tr>\n",
       "    <tr>\n",
       "      <th>1</th>\n",
       "      <td>@jessedee Know about @fludapp ? Awesome iPad/i...</td>\n",
       "      <td>iPad or iPhone App</td>\n",
       "      <td>Positive emotion</td>\n",
       "      <td>jessedee know about fludapp awesome ipadiphone...</td>\n",
       "      <td>[jessedee, know, about, fludapp, awesome, ipad...</td>\n",
       "      <td>[jessedee, know, fludapp, awesome, ipadiphone,...</td>\n",
       "      <td>[jessedee, know, fludapp, awesome, ipadiphone,...</td>\n",
       "    </tr>\n",
       "    <tr>\n",
       "      <th>2</th>\n",
       "      <td>@swonderlin Can not wait for #iPad 2 also. The...</td>\n",
       "      <td>iPad</td>\n",
       "      <td>Positive emotion</td>\n",
       "      <td>swonderlin can not wait for ipad  also they sh...</td>\n",
       "      <td>[swonderlin, can, not, wait, for, ipad, also, ...</td>\n",
       "      <td>[swonderlin, wait, ipad, also, sale, sxsw]</td>\n",
       "      <td>[swonderlin, wait, ipad, also, sale, sxsw]</td>\n",
       "    </tr>\n",
       "    <tr>\n",
       "      <th>3</th>\n",
       "      <td>@sxsw I hope this year's festival isn't as cra...</td>\n",
       "      <td>iPad or iPhone App</td>\n",
       "      <td>Negative emotion</td>\n",
       "      <td>sxsw i hope this years festival isnt as crashy...</td>\n",
       "      <td>[sxsw, i, hope, this, years, festival, isnt, a...</td>\n",
       "      <td>[sxsw, hope, years, festival, isnt, crashy, ye...</td>\n",
       "      <td>[sxsw, hope, year, festival, isnt, crashy, yea...</td>\n",
       "    </tr>\n",
       "    <tr>\n",
       "      <th>4</th>\n",
       "      <td>@sxtxstate great stuff on Fri #SXSW: Marissa M...</td>\n",
       "      <td>Google</td>\n",
       "      <td>Positive emotion</td>\n",
       "      <td>sxtxstate great stuff on fri sxsw marissa maye...</td>\n",
       "      <td>[sxtxstate, great, stuff, on, fri, sxsw, maris...</td>\n",
       "      <td>[sxtxstate, great, stuff, fri, sxsw, marissa, ...</td>\n",
       "      <td>[sxtxstate, great, stuff, fri, sxsw, marissa, ...</td>\n",
       "    </tr>\n",
       "  </tbody>\n",
       "</table>\n",
       "</div>"
      ],
      "text/plain": [
       "                                               tweet             product  \\\n",
       "0  .@wesley83 I have a 3G iPhone. After 3 hrs twe...              iPhone   \n",
       "1  @jessedee Know about @fludapp ? Awesome iPad/i...  iPad or iPhone App   \n",
       "2  @swonderlin Can not wait for #iPad 2 also. The...                iPad   \n",
       "3  @sxsw I hope this year's festival isn't as cra...  iPad or iPhone App   \n",
       "4  @sxtxstate great stuff on Fri #SXSW: Marissa M...              Google   \n",
       "\n",
       "            emotion                                      cleaned_tweet  \\\n",
       "0  Negative emotion  wesley83 i have a 3g iphone after  hrs tweetin...   \n",
       "1  Positive emotion  jessedee know about fludapp awesome ipadiphone...   \n",
       "2  Positive emotion  swonderlin can not wait for ipad  also they sh...   \n",
       "3  Negative emotion  sxsw i hope this years festival isnt as crashy...   \n",
       "4  Positive emotion  sxtxstate great stuff on fri sxsw marissa maye...   \n",
       "\n",
       "                                     tokenized_tweet  \\\n",
       "0  [wesley83, i, have, a, 3g, iphone, after, hrs,...   \n",
       "1  [jessedee, know, about, fludapp, awesome, ipad...   \n",
       "2  [swonderlin, can, not, wait, for, ipad, also, ...   \n",
       "3  [sxsw, i, hope, this, years, festival, isnt, a...   \n",
       "4  [sxtxstate, great, stuff, on, fri, sxsw, maris...   \n",
       "\n",
       "                                  removed_stop_tweet  \\\n",
       "0  [wesley83, 3g, iphone, hrs, tweeting, rise_aus...   \n",
       "1  [jessedee, know, fludapp, awesome, ipadiphone,...   \n",
       "2         [swonderlin, wait, ipad, also, sale, sxsw]   \n",
       "3  [sxsw, hope, years, festival, isnt, crashy, ye...   \n",
       "4  [sxtxstate, great, stuff, fri, sxsw, marissa, ...   \n",
       "\n",
       "                                    lemmatized_tweet  \n",
       "0  [wesley83, 3g, iphone, hr, tweeting, rise_aust...  \n",
       "1  [jessedee, know, fludapp, awesome, ipadiphone,...  \n",
       "2         [swonderlin, wait, ipad, also, sale, sxsw]  \n",
       "3  [sxsw, hope, year, festival, isnt, crashy, yea...  \n",
       "4  [sxtxstate, great, stuff, fri, sxsw, marissa, ...  "
      ]
     },
     "execution_count": 11,
     "metadata": {},
     "output_type": "execute_result"
    }
   ],
   "source": [
    "new_df = df.copy()\n",
    "\n",
    "#lets lemmetize\n",
    "lemmatizer = WordNetLemmatizer()\n",
    "\n",
    "#lets lemmetize\n",
    "lemmatizer = WordNetLemmatizer()\n",
    "\n",
    "def lemmatize_text(removed_stop_tweet) :\n",
    "    return [lemmatizer.lemmatize(word) for word in removed_stop_tweet ]\n",
    "\n",
    "new_df['lemmatized_tweet'] = new_df['removed_stop_tweet'].apply(lemmatize_text)\n",
    "new_df.head()\n"
   ]
  },
  {
   "cell_type": "code",
   "execution_count": 12,
   "metadata": {},
   "outputs": [],
   "source": [
    "new_df['lemmatized_tweet'] = new_df['lemmatized_tweet'].apply(lambda x: ' '.join(x))\n",
    "\n"
   ]
  },
  {
   "cell_type": "markdown",
   "metadata": {},
   "source": [
    "**Saving the clean dataset**"
   ]
  },
  {
   "cell_type": "code",
   "execution_count": 13,
   "metadata": {},
   "outputs": [],
   "source": [
    "new_df.to_csv('cleaned_dataset.csv', index=False)"
   ]
  },
  {
   "cell_type": "code",
   "execution_count": 14,
   "metadata": {
    "colab": {
     "base_uri": "https://localhost:8080/",
     "height": 484
    },
    "id": "-ba8TVBqlWOo",
    "outputId": "a359ca5a-cec1-4513-b520-83ae36d6cd79"
   },
   "outputs": [
    {
     "data": {
      "text/html": [
       "<div>\n",
       "<style scoped>\n",
       "    .dataframe tbody tr th:only-of-type {\n",
       "        vertical-align: middle;\n",
       "    }\n",
       "\n",
       "    .dataframe tbody tr th {\n",
       "        vertical-align: top;\n",
       "    }\n",
       "\n",
       "    .dataframe thead th {\n",
       "        text-align: right;\n",
       "    }\n",
       "</style>\n",
       "<table border=\"1\" class=\"dataframe\">\n",
       "  <thead>\n",
       "    <tr style=\"text-align: right;\">\n",
       "      <th></th>\n",
       "      <th>tweet</th>\n",
       "      <th>product</th>\n",
       "      <th>emotion</th>\n",
       "      <th>cleaned_tweet</th>\n",
       "      <th>tokenized_tweet</th>\n",
       "      <th>removed_stop_tweet</th>\n",
       "      <th>lemmatized_tweet</th>\n",
       "    </tr>\n",
       "  </thead>\n",
       "  <tbody>\n",
       "    <tr>\n",
       "      <th>0</th>\n",
       "      <td>.@wesley83 I have a 3G iPhone. After 3 hrs twe...</td>\n",
       "      <td>iPhone</td>\n",
       "      <td>Negative emotion</td>\n",
       "      <td>wesley83 i have a 3g iphone after  hrs tweetin...</td>\n",
       "      <td>['wesley83', 'i', 'have', 'a', '3g', 'iphone',...</td>\n",
       "      <td>['wesley83', '3g', 'iphone', 'hrs', 'tweeting'...</td>\n",
       "      <td>wesley83 3g iphone hr tweeting rise_austin dea...</td>\n",
       "    </tr>\n",
       "    <tr>\n",
       "      <th>1</th>\n",
       "      <td>@jessedee Know about @fludapp ? Awesome iPad/i...</td>\n",
       "      <td>iPad or iPhone App</td>\n",
       "      <td>Positive emotion</td>\n",
       "      <td>jessedee know about fludapp awesome ipadiphone...</td>\n",
       "      <td>['jessedee', 'know', 'about', 'fludapp', 'awes...</td>\n",
       "      <td>['jessedee', 'know', 'fludapp', 'awesome', 'ip...</td>\n",
       "      <td>jessedee know fludapp awesome ipadiphone app y...</td>\n",
       "    </tr>\n",
       "    <tr>\n",
       "      <th>2</th>\n",
       "      <td>@swonderlin Can not wait for #iPad 2 also. The...</td>\n",
       "      <td>iPad</td>\n",
       "      <td>Positive emotion</td>\n",
       "      <td>swonderlin can not wait for ipad  also they sh...</td>\n",
       "      <td>['swonderlin', 'can', 'not', 'wait', 'for', 'i...</td>\n",
       "      <td>['swonderlin', 'wait', 'ipad', 'also', 'sale',...</td>\n",
       "      <td>swonderlin wait ipad also sale sxsw</td>\n",
       "    </tr>\n",
       "    <tr>\n",
       "      <th>3</th>\n",
       "      <td>@sxsw I hope this year's festival isn't as cra...</td>\n",
       "      <td>iPad or iPhone App</td>\n",
       "      <td>Negative emotion</td>\n",
       "      <td>sxsw i hope this years festival isnt as crashy...</td>\n",
       "      <td>['sxsw', 'i', 'hope', 'this', 'years', 'festiv...</td>\n",
       "      <td>['sxsw', 'hope', 'years', 'festival', 'isnt', ...</td>\n",
       "      <td>sxsw hope year festival isnt crashy year iphon...</td>\n",
       "    </tr>\n",
       "    <tr>\n",
       "      <th>4</th>\n",
       "      <td>@sxtxstate great stuff on Fri #SXSW: Marissa M...</td>\n",
       "      <td>Google</td>\n",
       "      <td>Positive emotion</td>\n",
       "      <td>sxtxstate great stuff on fri sxsw marissa maye...</td>\n",
       "      <td>['sxtxstate', 'great', 'stuff', 'on', 'fri', '...</td>\n",
       "      <td>['sxtxstate', 'great', 'stuff', 'fri', 'sxsw',...</td>\n",
       "      <td>sxtxstate great stuff fri sxsw marissa mayer g...</td>\n",
       "    </tr>\n",
       "  </tbody>\n",
       "</table>\n",
       "</div>"
      ],
      "text/plain": [
       "                                               tweet             product  \\\n",
       "0  .@wesley83 I have a 3G iPhone. After 3 hrs twe...              iPhone   \n",
       "1  @jessedee Know about @fludapp ? Awesome iPad/i...  iPad or iPhone App   \n",
       "2  @swonderlin Can not wait for #iPad 2 also. The...                iPad   \n",
       "3  @sxsw I hope this year's festival isn't as cra...  iPad or iPhone App   \n",
       "4  @sxtxstate great stuff on Fri #SXSW: Marissa M...              Google   \n",
       "\n",
       "            emotion                                      cleaned_tweet  \\\n",
       "0  Negative emotion  wesley83 i have a 3g iphone after  hrs tweetin...   \n",
       "1  Positive emotion  jessedee know about fludapp awesome ipadiphone...   \n",
       "2  Positive emotion  swonderlin can not wait for ipad  also they sh...   \n",
       "3  Negative emotion  sxsw i hope this years festival isnt as crashy...   \n",
       "4  Positive emotion  sxtxstate great stuff on fri sxsw marissa maye...   \n",
       "\n",
       "                                     tokenized_tweet  \\\n",
       "0  ['wesley83', 'i', 'have', 'a', '3g', 'iphone',...   \n",
       "1  ['jessedee', 'know', 'about', 'fludapp', 'awes...   \n",
       "2  ['swonderlin', 'can', 'not', 'wait', 'for', 'i...   \n",
       "3  ['sxsw', 'i', 'hope', 'this', 'years', 'festiv...   \n",
       "4  ['sxtxstate', 'great', 'stuff', 'on', 'fri', '...   \n",
       "\n",
       "                                  removed_stop_tweet  \\\n",
       "0  ['wesley83', '3g', 'iphone', 'hrs', 'tweeting'...   \n",
       "1  ['jessedee', 'know', 'fludapp', 'awesome', 'ip...   \n",
       "2  ['swonderlin', 'wait', 'ipad', 'also', 'sale',...   \n",
       "3  ['sxsw', 'hope', 'years', 'festival', 'isnt', ...   \n",
       "4  ['sxtxstate', 'great', 'stuff', 'fri', 'sxsw',...   \n",
       "\n",
       "                                    lemmatized_tweet  \n",
       "0  wesley83 3g iphone hr tweeting rise_austin dea...  \n",
       "1  jessedee know fludapp awesome ipadiphone app y...  \n",
       "2                swonderlin wait ipad also sale sxsw  \n",
       "3  sxsw hope year festival isnt crashy year iphon...  \n",
       "4  sxtxstate great stuff fri sxsw marissa mayer g...  "
      ]
     },
     "execution_count": 14,
     "metadata": {},
     "output_type": "execute_result"
    }
   ],
   "source": [
    "# Load the cleaned dataset\n",
    "df = pd.read_csv('cleaned_dataset.csv')\n",
    "df.head()"
   ]
  },
  {
   "cell_type": "code",
   "execution_count": 15,
   "metadata": {
    "colab": {
     "base_uri": "https://localhost:8080/"
    },
    "id": "ciJCDHFCqUN3",
    "outputId": "d01f767d-c86a-468f-8927-62ea713b6627"
   },
   "outputs": [
    {
     "data": {
      "text/plain": [
       "No emotion toward brand or product    5388\n",
       "Positive emotion                      2978\n",
       "Negative emotion                       570\n",
       "I can't tell                           156\n",
       "Name: emotion, dtype: int64"
      ]
     },
     "execution_count": 15,
     "metadata": {},
     "output_type": "execute_result"
    }
   ],
   "source": [
    "df['emotion'].value_counts()"
   ]
  },
  {
   "cell_type": "markdown",
   "metadata": {
    "id": "7QL_-du1lurB"
   },
   "source": [
    "### Explanatory Data Analysis"
   ]
  },
  {
   "cell_type": "markdown",
   "metadata": {
    "id": "atvrgAxj8U9R"
   },
   "source": [
    "#### A barplot"
   ]
  },
  {
   "cell_type": "code",
   "execution_count": 16,
   "metadata": {
    "colab": {
     "base_uri": "https://localhost:8080/",
     "height": 472
    },
    "id": "MVTOQs8ypB2n",
    "outputId": "bed8a531-4098-4df2-9c2c-d45f38874e51"
   },
   "outputs": [
    {
     "data": {
      "image/png": "[encoded data removed]",
      "text/plain": [
       "<Figure size 432x288 with 1 Axes>"
      ]
     },
     "metadata": {
      "needs_background": "light"
     },
     "output_type": "display_data"
    }
   ],
   "source": [
    "# Visualizing the emotion column\n",
    "sns.countplot(y='emotion', data=df, palette='viridis')\n",
    "plt.title('Count of Emotions')\n",
    "plt.xlabel('Count')\n",
    "plt.ylabel('Emotion')\n",
    "plt.show()"
   ]
  },
  {
   "cell_type": "markdown",
   "metadata": {
    "id": "X-0saUGNp9fO"
   },
   "source": [
    "- The most frequently occurring emotion is `No emotion toward brand or product`, with a count of .\n",
    "Mention Less Frequent Emotions: \"Other emotions, such as `4568` and `I can't tell`, are less common.\n",
    "\n",
    "- There is a noticeable disparity between the counts of No emotion toward brand or product (4568) and the other emotions, with Positive emotion being the next most frequent at 2527, and Negative emotion at 501.\n",
    "\n",
    "\n",
    "- The high frequency of No emotion toward brand or product might be attributed to users sharing informational or factual content about the products rather than personal opinions or emotional responses."
   ]
  },
  {
   "cell_type": "markdown",
   "metadata": {
    "id": "c7Ds2tgn8hFJ"
   },
   "source": [
    "#### A histogram"
   ]
  },
  {
   "cell_type": "code",
   "execution_count": 17,
   "metadata": {
    "colab": {
     "base_uri": "https://localhost:8080/",
     "height": 472
    },
    "id": "flbuGZQk7xFy",
    "outputId": "6e792176-be19-4ebe-cbc4-8ded39240d84"
   },
   "outputs": [
    {
     "data": {
      "image/png": "[encoded data removed]",
      "text/plain": [
       "<Figure size 432x288 with 1 Axes>"
      ]
     },
     "metadata": {
      "needs_background": "light"
     },
     "output_type": "display_data"
    }
   ],
   "source": [
    "# Plotting a histogram to visualize the `lemmatized tweet` column\n",
    "colors = sns.color_palette(\"viridis\")  # Get the viridis palette\n",
    "df['lemmatized_tweet'].str.len().hist(color=colors[2])  # Use the second color (green)\n",
    "plt.xlabel('Length of Lemmatized Tweet')\n",
    "plt.ylabel('Frequency')\n",
    "plt.title('Distribution of Lemmatized Tweet Lengths')\n",
    "plt.show()"
   ]
  },
  {
   "cell_type": "markdown",
   "metadata": {
    "id": "NRV-hnGh814q"
   },
   "source": [
    "The histogram shows that news `lemmatized tweet` range from 10 to 140 characters  "
   ]
  },
  {
   "cell_type": "markdown",
   "metadata": {
    "id": "SZRWLNB8C2-m"
   },
   "source": [
    "**A histogram to visualize the average length of words in google and apple products tweets**"
   ]
  },
  {
   "cell_type": "code",
   "execution_count": 18,
   "metadata": {
    "colab": {
     "base_uri": "https://localhost:8080/",
     "height": 490
    },
    "id": "MeiNl_aUBlWt",
    "outputId": "4671b1ca-b16c-4ad5-f262-7615fb71518d"
   },
   "outputs": [
    {
     "name": "stdout",
     "output_type": "stream",
     "text": [
      "The overall average word length is: 5.4267243130117295\n"
     ]
    },
    {
     "data": {
      "image/png": "[encoded data removed]",
      "text/plain": [
       "<Figure size 432x288 with 1 Axes>"
      ]
     },
     "metadata": {
      "needs_background": "light"
     },
     "output_type": "display_data"
    }
   ],
   "source": [
    "# A histogram to visualize the average length of words in google and apple products tweets\n",
    "\"\"\"\n",
    "calculates the average word length for each tweet, and then creates a\n",
    "histogram to display the distribution of these average word lengths.\n",
    "\"\"\"\n",
    "\n",
    "# Handle potential float values in 'lemmatized_tweet' column\n",
    "df['lemmatized_tweet'] = df['lemmatized_tweet'].astype(str)\n",
    "\n",
    "# Calculate average word lengths and plot histogram with viridis palette\n",
    "colors = sns.color_palette(\"viridis\")\n",
    "df['lemmatized_tweet'].str.split().\\\n",
    "   apply(lambda x : [len(i) for i in x]).\\\n",
    "   map(lambda x: np.mean(x)).hist(color=colors[2]); # Use the second color in the viridis palette\n",
    "\n",
    "# calculating average word lengths\n",
    "\n",
    "average_word_lengths = df['lemmatized_tweet'].str.split().\\\n",
    "   apply(lambda x : [len(i) for i in x]).\\\n",
    "   map(lambda x: np.mean(x))\n",
    "\n",
    "overall_average = average_word_lengths.mean()\n",
    "\n",
    "print(\"The overall average word length is:\", overall_average)\n",
    "\n",
    "plt.xlabel('Average Word Length')\n",
    "plt.ylabel('Frequency')\n",
    "plt.title('Distribution of Average Word Lengths in Tweets')\n",
    "plt.show()"
   ]
  },
  {
   "cell_type": "markdown",
   "metadata": {
    "id": "c52WojiyB7Si"
   },
   "source": [
    "The histogram shows that the average word length in these tweets is around 5 words, with most tweets falling within the range of 4-5.   "
   ]
  },
  {
   "cell_type": "markdown",
   "metadata": {
    "id": "3WOmae0QIDM_"
   },
   "source": [
    "**Most frequent Bargrams used in the dataset**"
   ]
  },
  {
   "cell_type": "code",
   "execution_count": 19,
   "metadata": {
    "id": "mVRXUy6TDstz"
   },
   "outputs": [],
   "source": [
    "from sklearn.feature_extraction.text import CountVectorizer\n",
    "\n",
    "def get_top_ngram(corpus, n=None):\n",
    "    vec = CountVectorizer(ngram_range=(n, n)).fit(corpus)\n",
    "    bag_of_words = vec.transform(corpus)\n",
    "    sum_words = bag_of_words.sum(axis=0)\n",
    "    words_freq = [(word, sum_words[0, idx])\n",
    "                  for word, idx in vec.vocabulary_.items()]\n",
    "    words_freq =sorted(words_freq, key = lambda x: x[1], reverse=True)\n",
    "    return words_freq[:10]"
   ]
  },
  {
   "cell_type": "code",
   "execution_count": 20,
   "metadata": {
    "colab": {
     "base_uri": "https://localhost:8080/",
     "height": 490
    },
    "id": "snCR9LKrEMxb",
    "outputId": "595a2d5f-32da-4490-9c32-0c0580f42c5d"
   },
   "outputs": [
    {
     "data": {
      "text/plain": [
       "Text(0.5, 1.0, 'Top 5 Most Frequent Bigrams')"
      ]
     },
     "execution_count": 20,
     "metadata": {},
     "output_type": "execute_result"
    },
    {
     "data": {
      "image/png": "[encoded data removed]",
      "text/plain": [
       "<Figure size 432x288 with 1 Axes>"
      ]
     },
     "metadata": {
      "needs_background": "light"
     },
     "output_type": "display_data"
    }
   ],
   "source": [
    "top_n_bigrams=get_top_ngram(df['lemmatized_tweet'],2)[:5]\n",
    "x,y=map(list,zip(*top_n_bigrams))\n",
    "sns.barplot(x=y,y=x, palette='viridis')\n",
    "plt.xlabel('Frequency')  # Label for the x-axis\n",
    "plt.ylabel('Bigrams')   # Label for the y-axis\n",
    "plt.title('Top 5 Most Frequent Bigrams') #Title"
   ]
  },
  {
   "cell_type": "markdown",
   "metadata": {
    "id": "O24PmOiMFXff"
   },
   "source": [
    "We can observe that the bigrams such as `rt mention` is mostly related to  dominate the news headlines.The presence of bigrams such as \"rt mention\" dominating the dataset suggests that many tweets are retweets or mentions, which are typically used to highlight trending topics, news, and user opinions. This can imply that discussions about Apple and Google products are significantly influenced by social sharing and user interactions on the platform"
   ]
  },
  {
   "cell_type": "code",
   "execution_count": 21,
   "metadata": {
    "colab": {
     "base_uri": "https://localhost:8080/",
     "height": 501
    },
    "id": "XlD26OaAG4M_",
    "outputId": "1eb693f9-e5f6-43d6-d534-743350c3a261"
   },
   "outputs": [
    {
     "name": "stdout",
     "output_type": "stream",
     "text": [
      "Requirement already satisfied: wordcloud in c:\\users\\user\\anaconda3\\envs\\learn-env\\lib\\site-packages (1.9.3)\n",
      "Requirement already satisfied: numpy>=1.6.1 in c:\\users\\user\\anaconda3\\envs\\learn-env\\lib\\site-packages (from wordcloud) (1.18.5)\n",
      "Requirement already satisfied: pillow in c:\\users\\user\\anaconda3\\envs\\learn-env\\lib\\site-packages (from wordcloud) (10.4.0)\n",
      "Requirement already satisfied: matplotlib in c:\\users\\user\\anaconda3\\envs\\learn-env\\lib\\site-packages (from wordcloud) (3.3.1)\n",
      "Requirement already satisfied: certifi>=2020.06.20 in c:\\users\\user\\anaconda3\\envs\\learn-env\\lib\\site-packages (from matplotlib->wordcloud) (2020.6.20)\n",
      "Requirement already satisfied: cycler>=0.10 in c:\\users\\user\\anaconda3\\envs\\learn-env\\lib\\site-packages (from matplotlib->wordcloud) (0.10.0)\n",
      "Requirement already satisfied: kiwisolver>=1.0.1 in c:\\users\\user\\anaconda3\\envs\\learn-env\\lib\\site-packages (from matplotlib->wordcloud) (1.2.0)\n",
      "Requirement already satisfied: pyparsing!=2.0.4,!=2.1.2,!=2.1.6,>=2.0.3 in c:\\users\\user\\anaconda3\\envs\\learn-env\\lib\\site-packages (from matplotlib->wordcloud) (2.4.7)\n",
      "Requirement already satisfied: python-dateutil>=2.1 in c:\\users\\user\\anaconda3\\envs\\learn-env\\lib\\site-packages (from matplotlib->wordcloud) (2.8.1)\n",
      "Requirement already satisfied: six in c:\\users\\user\\anaconda3\\envs\\learn-env\\lib\\site-packages (from cycler>=0.10->matplotlib->wordcloud) (1.15.0)\n",
      "Note: you may need to restart the kernel to use updated packages.\n"
     ]
    },
    {
     "data": {
      "image/png": "[encoded data removed]",
      "text/plain": [
       "<Figure size 864x864 with 1 Axes>"
      ]
     },
     "metadata": {
      "needs_background": "light"
     },
     "output_type": "display_data"
    }
   ],
   "source": [
    "%pip install wordcloud\n",
    "\n",
    "from nltk import corpus\n",
    "from nltk.corpus import stopwords\n",
    "from wordcloud import WordCloud, STOPWORDS\n",
    "stopwords = set(STOPWORDS)\n",
    "\n",
    "def show_wordcloud(data):\n",
    "    wordcloud = WordCloud(\n",
    "        background_color='white',\n",
    "        stopwords=stopwords,\n",
    "        max_words=100,\n",
    "        max_font_size=30,\n",
    "        scale=3,\n",
    "        random_state=1)\n",
    "\n",
    "    wordcloud=wordcloud.generate(str(data))\n",
    "\n",
    "    fig = plt.figure(1, figsize=(12, 12))\n",
    "    plt.axis('off')\n",
    "\n",
    "    plt.imshow(wordcloud)\n",
    "    plt.show()\n",
    "\n",
    "# show_wordcloud(corpus)\n",
    "show_wordcloud(df['lemmatized_tweet'])"
   ]
  },
  {
   "cell_type": "markdown",
   "metadata": {
    "id": "RoVcvYgnLFvL"
   },
   "source": [
    "The large words in the word cloud provide a snapshot of the key topics and sentiments in our dataset. By focusing on these prominent terms, we can gain insights into user opinions, event influences, and brand mentions, which are crucial for the analysis of sentiment towards Apple and Google products."
   ]
  },
  {
   "cell_type": "code",
   "execution_count": 22,
   "metadata": {
    "colab": {
     "base_uri": "https://localhost:8080/",
     "height": 1000
    },
    "id": "b5Naz2_pSEy4",
    "outputId": "3cbb821a-75a0-4454-e3e0-d06d326256e5"
   },
   "outputs": [
    {
     "data": {
      "text/html": [
       "<div>\n",
       "<style scoped>\n",
       "    .dataframe tbody tr th:only-of-type {\n",
       "        vertical-align: middle;\n",
       "    }\n",
       "\n",
       "    .dataframe tbody tr th {\n",
       "        vertical-align: top;\n",
       "    }\n",
       "\n",
       "    .dataframe thead th {\n",
       "        text-align: right;\n",
       "    }\n",
       "</style>\n",
       "<table border=\"1\" class=\"dataframe\">\n",
       "  <thead>\n",
       "    <tr style=\"text-align: right;\">\n",
       "      <th></th>\n",
       "      <th>tweet</th>\n",
       "      <th>product</th>\n",
       "      <th>emotion</th>\n",
       "      <th>cleaned_tweet</th>\n",
       "      <th>tokenized_tweet</th>\n",
       "      <th>removed_stop_tweet</th>\n",
       "      <th>lemmatized_tweet</th>\n",
       "      <th>word_length</th>\n",
       "    </tr>\n",
       "  </thead>\n",
       "  <tbody>\n",
       "    <tr>\n",
       "      <th>0</th>\n",
       "      <td>.@wesley83 I have a 3G iPhone. After 3 hrs twe...</td>\n",
       "      <td>iPhone</td>\n",
       "      <td>Negative emotion</td>\n",
       "      <td>wesley83 i have a 3g iphone after  hrs tweetin...</td>\n",
       "      <td>['wesley83', 'i', 'have', 'a', '3g', 'iphone',...</td>\n",
       "      <td>['wesley83', '3g', 'iphone', 'hrs', 'tweeting'...</td>\n",
       "      <td>wesley83 3g iphone hr tweeting rise_austin dea...</td>\n",
       "      <td>[8, 2, 6, 2, 8, 11, 4, 4, 7, 6, 7, 4]</td>\n",
       "    </tr>\n",
       "    <tr>\n",
       "      <th>1</th>\n",
       "      <td>@jessedee Know about @fludapp ? Awesome iPad/i...</td>\n",
       "      <td>iPad or iPhone App</td>\n",
       "      <td>Positive emotion</td>\n",
       "      <td>jessedee know about fludapp awesome ipadiphone...</td>\n",
       "      <td>['jessedee', 'know', 'about', 'fludapp', 'awes...</td>\n",
       "      <td>['jessedee', 'know', 'fludapp', 'awesome', 'ip...</td>\n",
       "      <td>jessedee know fludapp awesome ipadiphone app y...</td>\n",
       "      <td>[8, 4, 7, 7, 10, 3, 5, 6, 10, 6, 4, 6, 6, 4, 1...</td>\n",
       "    </tr>\n",
       "    <tr>\n",
       "      <th>2</th>\n",
       "      <td>@swonderlin Can not wait for #iPad 2 also. The...</td>\n",
       "      <td>iPad</td>\n",
       "      <td>Positive emotion</td>\n",
       "      <td>swonderlin can not wait for ipad  also they sh...</td>\n",
       "      <td>['swonderlin', 'can', 'not', 'wait', 'for', 'i...</td>\n",
       "      <td>['swonderlin', 'wait', 'ipad', 'also', 'sale',...</td>\n",
       "      <td>swonderlin wait ipad also sale sxsw</td>\n",
       "      <td>[10, 4, 4, 4, 4, 4]</td>\n",
       "    </tr>\n",
       "    <tr>\n",
       "      <th>3</th>\n",
       "      <td>@sxsw I hope this year's festival isn't as cra...</td>\n",
       "      <td>iPad or iPhone App</td>\n",
       "      <td>Negative emotion</td>\n",
       "      <td>sxsw i hope this years festival isnt as crashy...</td>\n",
       "      <td>['sxsw', 'i', 'hope', 'this', 'years', 'festiv...</td>\n",
       "      <td>['sxsw', 'hope', 'years', 'festival', 'isnt', ...</td>\n",
       "      <td>sxsw hope year festival isnt crashy year iphon...</td>\n",
       "      <td>[4, 4, 4, 8, 4, 6, 4, 6, 3, 4]</td>\n",
       "    </tr>\n",
       "    <tr>\n",
       "      <th>4</th>\n",
       "      <td>@sxtxstate great stuff on Fri #SXSW: Marissa M...</td>\n",
       "      <td>Google</td>\n",
       "      <td>Positive emotion</td>\n",
       "      <td>sxtxstate great stuff on fri sxsw marissa maye...</td>\n",
       "      <td>['sxtxstate', 'great', 'stuff', 'on', 'fri', '...</td>\n",
       "      <td>['sxtxstate', 'great', 'stuff', 'fri', 'sxsw',...</td>\n",
       "      <td>sxtxstate great stuff fri sxsw marissa mayer g...</td>\n",
       "      <td>[9, 5, 5, 3, 4, 7, 5, 6, 3, 7, 4, 16, 3, 4, 9, 9]</td>\n",
       "    </tr>\n",
       "    <tr>\n",
       "      <th>...</th>\n",
       "      <td>...</td>\n",
       "      <td>...</td>\n",
       "      <td>...</td>\n",
       "      <td>...</td>\n",
       "      <td>...</td>\n",
       "      <td>...</td>\n",
       "      <td>...</td>\n",
       "      <td>...</td>\n",
       "    </tr>\n",
       "    <tr>\n",
       "      <th>9087</th>\n",
       "      <td>Ipad everywhere. #SXSW {link}</td>\n",
       "      <td>iPad</td>\n",
       "      <td>Positive emotion</td>\n",
       "      <td>ipad everywhere sxsw link</td>\n",
       "      <td>['ipad', 'everywhere', 'sxsw', 'link']</td>\n",
       "      <td>['ipad', 'everywhere', 'sxsw', 'link']</td>\n",
       "      <td>ipad everywhere sxsw link</td>\n",
       "      <td>[4, 10, 4, 4]</td>\n",
       "    </tr>\n",
       "    <tr>\n",
       "      <th>9088</th>\n",
       "      <td>Wave, buzz... RT @mention We interrupt your re...</td>\n",
       "      <td>NaN</td>\n",
       "      <td>No emotion toward brand or product</td>\n",
       "      <td>wave buzz rt mention we interrupt your regular...</td>\n",
       "      <td>['wave', 'buzz', 'rt', 'mention', 'we', 'inter...</td>\n",
       "      <td>['wave', 'buzz', 'rt', 'mention', 'interrupt',...</td>\n",
       "      <td>wave buzz rt mention interrupt regularly sched...</td>\n",
       "      <td>[4, 4, 2, 7, 9, 9, 9, 4, 4, 11, 3, 4, 4, 6, 6]</td>\n",
       "    </tr>\n",
       "    <tr>\n",
       "      <th>9089</th>\n",
       "      <td>Google's Zeiger, a physician never reported po...</td>\n",
       "      <td>NaN</td>\n",
       "      <td>No emotion toward brand or product</td>\n",
       "      <td>googles zeiger a physician never reported pote...</td>\n",
       "      <td>['googles', 'zeiger', 'a', 'physician', 'never...</td>\n",
       "      <td>['googles', 'zeiger', 'physician', 'never', 'r...</td>\n",
       "      <td>google zeiger physician never reported potenti...</td>\n",
       "      <td>[6, 6, 9, 5, 8, 9, 2, 3, 3, 6, 9, 8, 9, 4, 8, ...</td>\n",
       "    </tr>\n",
       "    <tr>\n",
       "      <th>9090</th>\n",
       "      <td>Some Verizon iPhone customers complained their...</td>\n",
       "      <td>NaN</td>\n",
       "      <td>No emotion toward brand or product</td>\n",
       "      <td>some verizon iphone customers complained their...</td>\n",
       "      <td>['some', 'verizon', 'iphone', 'customers', 'co...</td>\n",
       "      <td>['verizon', 'iphone', 'customers', 'complained...</td>\n",
       "      <td>verizon iphone customer complained time fell b...</td>\n",
       "      <td>[7, 6, 8, 10, 4, 4, 4, 4, 7, 6, 3, 7, 8, 4]</td>\n",
       "    </tr>\n",
       "    <tr>\n",
       "      <th>9091</th>\n",
       "      <td>Ï¡Ïàü_ÊÎÒ£Áââ_£â_ÛâRT @...</td>\n",
       "      <td>NaN</td>\n",
       "      <td>No emotion toward brand or product</td>\n",
       "      <td>ïïàü_êîòáââ_â_ûârt mention google tests ûïchec...</td>\n",
       "      <td>['ïïàü_êîòáââ_â_ûârt', 'mention', 'google', 't...</td>\n",
       "      <td>['ïïàü_êîòáââ_â_ûârt', 'mention', 'google', 't...</td>\n",
       "      <td>ïïàü_êîòáââ_â_ûârt mention google test ûïcheck...</td>\n",
       "      <td>[18, 7, 6, 4, 9, 7, 4, 4]</td>\n",
       "    </tr>\n",
       "  </tbody>\n",
       "</table>\n",
       "<p>9092 rows × 8 columns</p>\n",
       "</div>"
      ],
      "text/plain": [
       "                                                  tweet             product  \\\n",
       "0     .@wesley83 I have a 3G iPhone. After 3 hrs twe...              iPhone   \n",
       "1     @jessedee Know about @fludapp ? Awesome iPad/i...  iPad or iPhone App   \n",
       "2     @swonderlin Can not wait for #iPad 2 also. The...                iPad   \n",
       "3     @sxsw I hope this year's festival isn't as cra...  iPad or iPhone App   \n",
       "4     @sxtxstate great stuff on Fri #SXSW: Marissa M...              Google   \n",
       "...                                                 ...                 ...   \n",
       "9087                      Ipad everywhere. #SXSW {link}                iPad   \n",
       "9088  Wave, buzz... RT @mention We interrupt your re...                 NaN   \n",
       "9089  Google's Zeiger, a physician never reported po...                 NaN   \n",
       "9090  Some Verizon iPhone customers complained their...                 NaN   \n",
       "9091  Ï¡Ïàü_ÊÎÒ£Áââ_£â_ÛâRT @...                 NaN   \n",
       "\n",
       "                                 emotion  \\\n",
       "0                       Negative emotion   \n",
       "1                       Positive emotion   \n",
       "2                       Positive emotion   \n",
       "3                       Negative emotion   \n",
       "4                       Positive emotion   \n",
       "...                                  ...   \n",
       "9087                    Positive emotion   \n",
       "9088  No emotion toward brand or product   \n",
       "9089  No emotion toward brand or product   \n",
       "9090  No emotion toward brand or product   \n",
       "9091  No emotion toward brand or product   \n",
       "\n",
       "                                          cleaned_tweet  \\\n",
       "0     wesley83 i have a 3g iphone after  hrs tweetin...   \n",
       "1     jessedee know about fludapp awesome ipadiphone...   \n",
       "2     swonderlin can not wait for ipad  also they sh...   \n",
       "3     sxsw i hope this years festival isnt as crashy...   \n",
       "4     sxtxstate great stuff on fri sxsw marissa maye...   \n",
       "...                                                 ...   \n",
       "9087                          ipad everywhere sxsw link   \n",
       "9088  wave buzz rt mention we interrupt your regular...   \n",
       "9089  googles zeiger a physician never reported pote...   \n",
       "9090  some verizon iphone customers complained their...   \n",
       "9091  ïïàü_êîòáââ_â_ûârt mention google tests ûïchec...   \n",
       "\n",
       "                                        tokenized_tweet  \\\n",
       "0     ['wesley83', 'i', 'have', 'a', '3g', 'iphone',...   \n",
       "1     ['jessedee', 'know', 'about', 'fludapp', 'awes...   \n",
       "2     ['swonderlin', 'can', 'not', 'wait', 'for', 'i...   \n",
       "3     ['sxsw', 'i', 'hope', 'this', 'years', 'festiv...   \n",
       "4     ['sxtxstate', 'great', 'stuff', 'on', 'fri', '...   \n",
       "...                                                 ...   \n",
       "9087             ['ipad', 'everywhere', 'sxsw', 'link']   \n",
       "9088  ['wave', 'buzz', 'rt', 'mention', 'we', 'inter...   \n",
       "9089  ['googles', 'zeiger', 'a', 'physician', 'never...   \n",
       "9090  ['some', 'verizon', 'iphone', 'customers', 'co...   \n",
       "9091  ['ïïàü_êîòáââ_â_ûârt', 'mention', 'google', 't...   \n",
       "\n",
       "                                     removed_stop_tweet  \\\n",
       "0     ['wesley83', '3g', 'iphone', 'hrs', 'tweeting'...   \n",
       "1     ['jessedee', 'know', 'fludapp', 'awesome', 'ip...   \n",
       "2     ['swonderlin', 'wait', 'ipad', 'also', 'sale',...   \n",
       "3     ['sxsw', 'hope', 'years', 'festival', 'isnt', ...   \n",
       "4     ['sxtxstate', 'great', 'stuff', 'fri', 'sxsw',...   \n",
       "...                                                 ...   \n",
       "9087             ['ipad', 'everywhere', 'sxsw', 'link']   \n",
       "9088  ['wave', 'buzz', 'rt', 'mention', 'interrupt',...   \n",
       "9089  ['googles', 'zeiger', 'physician', 'never', 'r...   \n",
       "9090  ['verizon', 'iphone', 'customers', 'complained...   \n",
       "9091  ['ïïàü_êîòáââ_â_ûârt', 'mention', 'google', 't...   \n",
       "\n",
       "                                       lemmatized_tweet  \\\n",
       "0     wesley83 3g iphone hr tweeting rise_austin dea...   \n",
       "1     jessedee know fludapp awesome ipadiphone app y...   \n",
       "2                   swonderlin wait ipad also sale sxsw   \n",
       "3     sxsw hope year festival isnt crashy year iphon...   \n",
       "4     sxtxstate great stuff fri sxsw marissa mayer g...   \n",
       "...                                                 ...   \n",
       "9087                          ipad everywhere sxsw link   \n",
       "9088  wave buzz rt mention interrupt regularly sched...   \n",
       "9089  google zeiger physician never reported potenti...   \n",
       "9090  verizon iphone customer complained time fell b...   \n",
       "9091  ïïàü_êîòáââ_â_ûârt mention google test ûïcheck...   \n",
       "\n",
       "                                            word_length  \n",
       "0                 [8, 2, 6, 2, 8, 11, 4, 4, 7, 6, 7, 4]  \n",
       "1     [8, 4, 7, 7, 10, 3, 5, 6, 10, 6, 4, 6, 6, 4, 1...  \n",
       "2                                   [10, 4, 4, 4, 4, 4]  \n",
       "3                        [4, 4, 4, 8, 4, 6, 4, 6, 3, 4]  \n",
       "4     [9, 5, 5, 3, 4, 7, 5, 6, 3, 7, 4, 16, 3, 4, 9, 9]  \n",
       "...                                                 ...  \n",
       "9087                                      [4, 10, 4, 4]  \n",
       "9088     [4, 4, 2, 7, 9, 9, 9, 4, 4, 11, 3, 4, 4, 6, 6]  \n",
       "9089  [6, 6, 9, 5, 8, 9, 2, 3, 3, 6, 9, 8, 9, 4, 8, ...  \n",
       "9090        [7, 6, 8, 10, 4, 4, 4, 4, 7, 6, 3, 7, 8, 4]  \n",
       "9091                          [18, 7, 6, 4, 9, 7, 4, 4]  \n",
       "\n",
       "[9092 rows x 8 columns]"
      ]
     },
     "execution_count": 22,
     "metadata": {},
     "output_type": "execute_result"
    }
   ],
   "source": [
    "df['word_length'] = df['lemmatized_tweet'].str.split().apply(lambda x: [len(i) for i in x])\n",
    "df"
   ]
  },
  {
   "cell_type": "code",
   "execution_count": null,
   "metadata": {},
   "outputs": [],
   "source": []
  }
 ],
 "metadata": {
  "colab": {
   "provenance": []
  },
  "kernelspec": {
   "display_name": "Python 3",
   "language": "python",
   "name": "python3"
  },
  "language_info": {
   "codemirror_mode": {
    "name": "ipython",
    "version": 3
   },
   "file_extension": ".py",
   "mimetype": "text/x-python",
   "name": "python",
   "nbconvert_exporter": "python",
   "pygments_lexer": "ipython3",
   "version": "3.8.5"
  }
 },
 "nbformat": 4,
 "nbformat_minor": 1
}
